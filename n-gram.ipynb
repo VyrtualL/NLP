{
 "cells": [
  {
   "cell_type": "code",
   "id": "initial_id",
   "metadata": {
    "collapsed": true,
    "ExecuteTime": {
     "end_time": "2024-05-20T15:39:37.184224Z",
     "start_time": "2024-05-20T15:39:36.784433Z"
    }
   },
   "source": [
    "from dataset import load_dataset, preprocess\n",
    "\n",
    "from nltk import word_tokenize, sent_tokenize, ngrams\n",
    "from nltk.lm import Laplace\n",
    "from nltk.lm.preprocessing import padded_everygram_pipeline\n",
    "from sklearn.model_selection import train_test_split\n",
    "import nltk\n",
    "from nltk.corpus import stopwords\n",
    "import random\n",
    "\n",
    "import pandas as pd\n",
    "from collections import defaultdict\n",
    "\n",
    "import matplotlib.pyplot as plt"
   ],
   "outputs": [],
   "execution_count": 1
  },
  {
   "metadata": {
    "ExecuteTime": {
     "end_time": "2024-05-20T15:39:39.891910Z",
     "start_time": "2024-05-20T15:39:39.126116Z"
    }
   },
   "cell_type": "code",
   "source": [
    "dataset = load_dataset()\n",
    "dataset = preprocess(dataset)"
   ],
   "id": "72a66363ee055f0a",
   "outputs": [],
   "execution_count": 2
  },
  {
   "metadata": {
    "ExecuteTime": {
     "end_time": "2024-05-20T15:39:39.923631Z",
     "start_time": "2024-05-20T15:39:39.894620Z"
    }
   },
   "cell_type": "code",
   "source": [
    "plots = list(dataset['Plot'])\n",
    "plots_as_string = \" \".join(plots)"
   ],
   "id": "32f8d10725e3a743",
   "outputs": [],
   "execution_count": 3
  },
  {
   "metadata": {
    "ExecuteTime": {
     "end_time": "2024-05-19T19:26:23.008997Z",
     "start_time": "2024-05-19T19:26:22.564561Z"
    }
   },
   "cell_type": "code",
   "source": [
    "n = 1\n",
    "unigrams = ngrams(plots_as_string.split(), n)"
   ],
   "id": "cdc45aacf01a54dc",
   "execution_count": 4,
   "outputs": []
  },
  {
   "metadata": {
    "ExecuteTime": {
     "end_time": "2024-05-19T19:26:24.331014Z",
     "start_time": "2024-05-19T19:26:24.326152Z"
    }
   },
   "cell_type": "code",
   "source": [
    "y = dataset['Genre'].values\n",
    "print(y.shape)\n",
    "x = dataset['Plot'].values\n",
    "print(x.shape)"
   ],
   "id": "1d0404f6f484039b",
   "execution_count": 5,
   "outputs": []
  },
  {
   "metadata": {
    "ExecuteTime": {
     "end_time": "2024-05-19T19:26:25.206638Z",
     "start_time": "2024-05-19T19:26:25.197237Z"
    }
   },
   "cell_type": "code",
   "source": [
    "(x_train, x_test, y_train, y_test) = train_test_split(x, y, test_size=0.4)\n",
    "print(x_train.shape)\n",
    "print(y_train.shape)\n",
    "print(x_test.shape)\n",
    "print(y_test.shape)"
   ],
   "id": "f3819892c57e1b42",
   "execution_count": 6,
   "outputs": []
  },
  {
   "metadata": {
    "ExecuteTime": {
     "end_time": "2024-05-19T19:26:49.392600Z",
     "start_time": "2024-05-19T19:26:49.387851Z"
    }
   },
   "cell_type": "code",
   "source": [
    "df1 = pd.DataFrame(x_train)\n",
    "df1 = df1.rename(columns={0: 'plot'})"
   ],
   "id": "b1e1b50ccade1ecb",
   "execution_count": 11,
   "outputs": []
  },
  {
   "metadata": {
    "ExecuteTime": {
     "end_time": "2024-05-19T19:26:49.701148Z",
     "start_time": "2024-05-19T19:26:49.696643Z"
    }
   },
   "cell_type": "code",
   "source": [
    "df2 = pd.DataFrame(y_train)\n",
    "df2 = df2.rename(columns={0: 'genre'})\n",
    "df_train = pd.concat([df1, df2], axis=1)"
   ],
   "id": "cfb27d4fe41570c5",
   "execution_count": 12,
   "outputs": []
  },
  {
   "metadata": {
    "ExecuteTime": {
     "end_time": "2024-05-19T19:26:50.088484Z",
     "start_time": "2024-05-19T19:26:50.078034Z"
    }
   },
   "cell_type": "code",
   "source": "df_train.head",
   "id": "d307e461ab22d842",
   "execution_count": 13,
   "outputs": []
  },
  {
   "metadata": {
    "ExecuteTime": {
     "end_time": "2024-05-19T19:26:50.792148Z",
     "start_time": "2024-05-19T19:26:50.782048Z"
    }
   },
   "cell_type": "code",
   "source": [
    "df3 = pd.DataFrame(x_test)\n",
    "df3 = df3.rename(columns={0: 'plot'})\n",
    "df4 = pd.DataFrame(y_test)\n",
    "df4 = df2.rename(columns={0: 'genre'})\n",
    "df_test = pd.concat([df3, df4], axis=1)\n",
    "df_test.head()"
   ],
   "id": "741fab53fcee0abf",
   "execution_count": 14,
   "outputs": []
  },
  {
   "metadata": {
    "ExecuteTime": {
     "end_time": "2024-05-19T19:26:52.181874Z",
     "start_time": "2024-05-19T19:26:52.102879Z"
    }
   },
   "cell_type": "code",
   "source": "nltk.download('stopwords')",
   "id": "648fca71b8aa2978",
   "execution_count": 15,
   "outputs": []
  },
  {
   "metadata": {},
   "cell_type": "markdown",
   "source": "# Itération 1",
   "id": "31bcbbbc6cfc2ef8"
  },
  {
   "metadata": {
    "ExecuteTime": {
     "end_time": "2024-05-19T20:50:01.694626Z",
     "start_time": "2024-05-19T20:50:01.690601Z"
    }
   },
   "cell_type": "code",
   "source": [
    "def generate_N_grams(text, ngram=1):\n",
    "    words = [word for word in text.split(\" \") if word.lower() not in set(stopwords.words('english'))]\n",
    "    temp = zip(*[words[i:] for i in range(0, ngram)])\n",
    "    ans = [' '.join(ngram) for ngram in temp]\n",
    "    return ans"
   ],
   "id": "92dbf9407ff946bf",
   "execution_count": 48,
   "outputs": []
  },
  {
   "metadata": {
    "ExecuteTime": {
     "end_time": "2024-05-19T20:50:02.127335Z",
     "start_time": "2024-05-19T20:50:02.119993Z"
    }
   },
   "cell_type": "code",
   "source": "generate_N_grams(\"A really funny movie\", 2)",
   "id": "3576038923409a0a",
   "execution_count": 49,
   "outputs": []
  },
  {
   "metadata": {
    "ExecuteTime": {
     "end_time": "2024-05-19T20:55:54.983499Z",
     "start_time": "2024-05-19T20:50:02.652576Z"
    }
   },
   "cell_type": "code",
   "source": [
    "defdict = {}\n",
    "\n",
    "test = df_train.head(500)\n",
    "\n",
    "for genre in test['genre'].values:\n",
    "    if genre not in defdict:\n",
    "        defdict[f'{genre}'] = defaultdict(int)\n",
    "    for text in test[test['genre'] == genre]['plot']:\n",
    "        for word in generate_N_grams(text, 3):\n",
    "            defdict[f'{genre}'][word] += 1"
   ],
   "id": "7f352085fed6055c",
   "execution_count": 50,
   "outputs": []
  },
  {
   "metadata": {
    "ExecuteTime": {
     "end_time": "2024-05-19T20:55:56.202061Z",
     "start_time": "2024-05-19T20:55:54.985380Z"
    }
   },
   "cell_type": "code",
   "source": [
    "dfall = {}\n",
    "for genre in test['genre'].values:\n",
    "    dfall[f'{genre}'] = pd.DataFrame(sorted(defdict[genre].items(),key=lambda x:x[1],reverse=True))"
   ],
   "id": "b80223b37134859",
   "execution_count": 51,
   "outputs": []
  },
  {
   "metadata": {
    "ExecuteTime": {
     "end_time": "2024-05-19T20:55:56.206409Z",
     "start_time": "2024-05-19T20:55:56.203438Z"
    }
   },
   "cell_type": "code",
   "source": [
    "pd1=dfall[\"drama\"][0][:5]\n",
    "pd2=dfall[\"drama\"][1][:5]"
   ],
   "id": "dc517c2420122f61",
   "execution_count": 52,
   "outputs": []
  },
  {
   "metadata": {
    "ExecuteTime": {
     "end_time": "2024-05-19T21:10:26.672833Z",
     "start_time": "2024-05-19T21:10:26.527756Z"
    }
   },
   "cell_type": "code",
   "source": [
    "plt.figure(1,figsize=(8,4))\n",
    "plt.bar(pd1,pd2, color ='green',\n",
    "        width = 0.4)\n",
    "plt.xlabel(\"Words in positive dataframe\")\n",
    "plt.ylabel(\"Count\")\n",
    "plt.title(\"Top 10 words in drama genre - UNIGRAM ANALYSIS\")\n",
    "plt.savefig(\"positive-unigram.png\")\n",
    "plt.show()"
   ],
   "id": "b009a3b3893a515",
   "execution_count": 56,
   "outputs": []
  },
  {
   "metadata": {},
   "cell_type": "markdown",
   "source": "# Itération 2",
   "id": "327594181e61555e"
  },
  {
   "metadata": {
    "ExecuteTime": {
     "end_time": "2024-05-19T19:32:59.131606Z",
     "start_time": "2024-05-19T19:26:56.515204Z"
    }
   },
   "cell_type": "code",
   "source": [
    "defdict2 = {}\n",
    "\n",
    "test = df_train.head(500)\n",
    "\n",
    "for genre in test['genre'].values:\n",
    "    if genre not in defdict2:\n",
    "        defdict2[f'{genre}'] = defaultdict(int)\n",
    "    for text in test[test['genre'] == genre]['plot']:\n",
    "        for word in generate_N_grams(text,3):\n",
    "            defdict2[f'{genre}'][word] += 1"
   ],
   "id": "1d8b4abf1e2dee98",
   "execution_count": 17,
   "outputs": []
  },
  {
   "metadata": {
    "ExecuteTime": {
     "end_time": "2024-05-19T19:33:00.384999Z",
     "start_time": "2024-05-19T19:32:59.133741Z"
    }
   },
   "cell_type": "code",
   "source": [
    "dfall2 = {}\n",
    "for genre in test['genre'].values:\n",
    "    dfall2[f'{genre}'] = pd.DataFrame(sorted(defdict2[genre].items(), key=lambda x: x[1], reverse=True))"
   ],
   "id": "c57d3de567f4deaf",
   "execution_count": 18,
   "outputs": []
  },
  {
   "metadata": {
    "ExecuteTime": {
     "end_time": "2024-05-19T21:10:58.523958Z",
     "start_time": "2024-05-19T21:10:58.520054Z"
    }
   },
   "cell_type": "code",
   "source": [
    "def show_result(genre):\n",
    "    color=random.choice(['red', 'blue', 'green', 'yellow', 'black', 'white', 'pink'])\n",
    "    pd1 = dfall2[genre][0][:5]\n",
    "    pd2 = dfall2[genre][1][:5]\n",
    "    plt.figure(1, figsize=(8, 4))\n",
    "    plt.bar(pd1, pd2, color=color,\n",
    "            width=0.4)\n",
    "    plt.xlabel(\"Words in positive dataframe\")\n",
    "    plt.ylabel(\"Count\")\n",
    "    plt.title(f\"Top 10 words in {genre} genre - TRIGRAM ANALYSIS\")\n",
    "    plt.savefig(\"positive-unigram.png\")\n",
    "    plt.show()"
   ],
   "id": "1bf9a1a848426096",
   "execution_count": 57,
   "outputs": []
  },
  {
   "metadata": {
    "ExecuteTime": {
     "end_time": "2024-05-19T21:10:59.381526Z",
     "start_time": "2024-05-19T21:10:59.258646Z"
    }
   },
   "cell_type": "code",
   "source": "show_result(\"drama\")",
   "id": "a958f8d9ceab0c8f",
   "execution_count": 58,
   "outputs": []
  },
  {
   "metadata": {},
   "cell_type": "markdown",
   "source": "# Itération 3",
   "id": "b4f26a4d1a85dfd7"
  },
  {
   "metadata": {
    "ExecuteTime": {
     "end_time": "2024-05-19T20:10:46.170949Z",
     "start_time": "2024-05-19T20:10:46.167237Z"
    }
   },
   "cell_type": "code",
   "source": [
    "def generate_N_grams(text, ngram=1):\n",
    "    words = [word for word in text if word.lower() not in set(stopwords.words('english'))]\n",
    "    temp = zip(*[words[i:] for i in range(0, ngram)])\n",
    "    ans = [' '.join(ngram) for ngram in temp]\n",
    "    return ans"
   ],
   "id": "ef8b085595eefcaf",
   "execution_count": 38,
   "outputs": []
  },
  {
   "metadata": {
    "ExecuteTime": {
     "end_time": "2024-05-19T20:27:37.338624Z",
     "start_time": "2024-05-19T20:21:08.002056Z"
    }
   },
   "cell_type": "code",
   "source": [
    "defdict3 = {}\n",
    "\n",
    "test = df_train.head(500)\n",
    "\n",
    "for genre in test['genre'].values:\n",
    "    if genre not in defdict3:\n",
    "        defdict3[f'{genre}'] = defaultdict(int)\n",
    "    for text in test[test['genre'] == genre]['plot']:\n",
    "        text = word_tokenize(text)\n",
    "        text = [word for word in text if len(word) > 1 and word != 'i']\n",
    "        for word in generate_N_grams(text, 3):\n",
    "            defdict3[f'{genre}'][word] += 1"
   ],
   "id": "6af22fb6fc303f37",
   "execution_count": 43,
   "outputs": []
  },
  {
   "metadata": {
    "ExecuteTime": {
     "end_time": "2024-05-19T20:28:09.928275Z",
     "start_time": "2024-05-19T20:28:08.383680Z"
    }
   },
   "cell_type": "code",
   "source": [
    "dfall3 = {}\n",
    "for genre in test['genre'].values:\n",
    "    dfall3[f'{genre}'] = pd.DataFrame(sorted(defdict3[genre].items(), key=lambda x: x[1], reverse=True))"
   ],
   "id": "970f6151e9d8c080",
   "execution_count": 44,
   "outputs": []
  },
  {
   "metadata": {
    "ExecuteTime": {
     "end_time": "2024-05-19T21:11:48.345982Z",
     "start_time": "2024-05-19T21:11:48.342485Z"
    }
   },
   "cell_type": "code",
   "source": [
    "def show_result(genre):\n",
    "    color = random.choice(['red', 'blue', 'green', 'yellow', 'black', 'white', 'pink'])\n",
    "    pd1 = dfall3[genre][0][:5]\n",
    "    pd2 = dfall3[genre][1][:5]\n",
    "    plt.figure(1, figsize=(12, 4))\n",
    "    plt.bar(pd1, pd2, color=color,\n",
    "            width=0.4)\n",
    "    plt.xlabel(\"Words in positive dataframe\")\n",
    "    plt.ylabel(\"Count\")\n",
    "    plt.title(f\"Top 10 words in {genre} genre - TRIGRAM ANALYSIS\")\n",
    "    plt.savefig(\"positive-unigram.png\")\n",
    "    plt.show()"
   ],
   "id": "4ab250837d04f2ce",
   "execution_count": 65,
   "outputs": []
  },
  {
   "metadata": {
    "ExecuteTime": {
     "end_time": "2024-05-19T21:11:49.170560Z",
     "start_time": "2024-05-19T21:11:49.043075Z"
    }
   },
   "cell_type": "code",
   "source": "show_result(\"drama\")",
   "id": "7e9f5f544759f79f",
   "execution_count": 66,
   "outputs": []
  },
  {
   "metadata": {},
   "cell_type": "markdown",
   "source": "# With NLTK",
   "id": "8b048d70f35facb2"
  },
  {
   "metadata": {
    "ExecuteTime": {
     "end_time": "2024-05-20T15:40:23.176605Z",
     "start_time": "2024-05-20T15:39:43.804755Z"
    }
   },
   "cell_type": "code",
   "source": [
    "plots_train = plots[:500]\n",
    "train_strings = \" \".join(plots_train)\n",
    "train_strings = train_strings.lower()\n",
    "train_tokens = [word_tokenize(s) for s in sent_tokenize(train_strings)]\n",
    "\n",
    "plots_test = plots[100:]\n",
    "test_strings = \" \".join(plots_test)\n",
    "test_strings = test_strings.lower()\n",
    "test_tokens = [word_tokenize(s) for s in sent_tokenize(test_strings)]"
   ],
   "id": "60b90ad1fca17dcc",
   "outputs": [],
   "execution_count": 4
  },
  {
   "metadata": {
    "ExecuteTime": {
     "end_time": "2024-05-20T15:40:29.434359Z",
     "start_time": "2024-05-20T15:40:29.427273Z"
    }
   },
   "cell_type": "code",
   "source": [
    "n = 3\n",
    "train, vocab = padded_everygram_pipeline(n, train_tokens)\n",
    "lmLS = Laplace(n) # Laplace smoothing"
   ],
   "id": "35fe069f1afe8d03",
   "outputs": [],
   "execution_count": 5
  },
  {
   "metadata": {
    "ExecuteTime": {
     "end_time": "2024-05-20T15:40:32.043247Z",
     "start_time": "2024-05-20T15:40:30.779792Z"
    }
   },
   "cell_type": "code",
   "source": "lmLS.fit(train, vocab)",
   "id": "14d0a5d80f114927",
   "outputs": [],
   "execution_count": 6
  },
  {
   "metadata": {
    "ExecuteTime": {
     "end_time": "2024-05-20T15:40:32.700741Z",
     "start_time": "2024-05-20T15:40:32.696997Z"
    }
   },
   "cell_type": "code",
   "source": "print(lmLS.vocab.lookup([\"movie\", \"fun\"]))",
   "id": "25093c9ae8d256c8",
   "outputs": [
    {
     "name": "stdout",
     "output_type": "stream",
     "text": [
      "('movie', 'fun')\n"
     ]
    }
   ],
   "execution_count": 7
  },
  {
   "metadata": {
    "ExecuteTime": {
     "end_time": "2024-05-20T15:40:33.203750Z",
     "start_time": "2024-05-20T15:40:33.200346Z"
    }
   },
   "cell_type": "code",
   "source": "print(lmLS.score(\"fun\", [\"have\"]))",
   "id": "30ce1143caec85d5",
   "outputs": [
    {
     "name": "stdout",
     "output_type": "stream",
     "text": [
      "8.894423196655697e-05\n"
     ]
    }
   ],
   "execution_count": 8
  },
  {
   "metadata": {
    "ExecuteTime": {
     "end_time": "2024-05-20T15:45:11.474750Z",
     "start_time": "2024-05-20T15:45:11.434363Z"
    }
   },
   "cell_type": "code",
   "source": [
    "begin = 'the'\n",
    "l = []\n",
    "for i in range(5):\n",
    "    l.append(f\"{begin} {' '.join(lmLS.generate(10, text_seed=[begin]))}\")"
   ],
   "id": "8b70326d8e0fc6b4",
   "outputs": [],
   "execution_count": 15
  },
  {
   "metadata": {
    "ExecuteTime": {
     "end_time": "2024-05-20T15:45:11.950275Z",
     "start_time": "2024-05-20T15:45:11.945387Z"
    }
   },
   "cell_type": "code",
   "source": "l",
   "id": "b136e9fb474aaeb3",
   "outputs": [
    {
     "data": {
      "text/plain": [
       "['the police for a six-month tour of south america and returns',\n",
       " 'the brooding landscape : the gesticulating passengers in the adirondacks .',\n",
       " 'the north , one of these rich people would take a',\n",
       " 'the old man , made easier by the local butterflies ,',\n",
       " 'the forgiveness of jack on his return , he lies unidentified']"
      ]
     },
     "execution_count": 16,
     "metadata": {},
     "output_type": "execute_result"
    }
   ],
   "execution_count": 16
  },
  {
   "metadata": {
    "ExecuteTime": {
     "end_time": "2024-05-20T15:40:44.980697Z",
     "start_time": "2024-05-20T15:40:35.036805Z"
    }
   },
   "cell_type": "code",
   "source": [
    "print(lmLS.perplexity(train_tokens))\n",
    "print(lmLS.perplexity(test_tokens))"
   ],
   "id": "b52f1dd99da50e88",
   "outputs": [
    {
     "name": "stdout",
     "output_type": "stream",
     "text": [
      "11083.795764068143\n",
      "11096.331932303725\n"
     ]
    }
   ],
   "execution_count": 10
  },
  {
   "metadata": {},
   "cell_type": "code",
   "execution_count": null,
   "source": "",
   "id": "e73061154566eb47",
   "outputs": []
  }
 ],
 "metadata": {
  "kernelspec": {
   "display_name": "Python 3",
   "language": "python",
   "name": "python3"
  },
  "language_info": {
   "codemirror_mode": {
    "name": "ipython",
    "version": 2
   },
   "file_extension": ".py",
   "mimetype": "text/x-python",
   "name": "python",
   "nbconvert_exporter": "python",
   "pygments_lexer": "ipython2",
   "version": "2.7.6"
  }
 },
 "nbformat": 4,
 "nbformat_minor": 5
}
